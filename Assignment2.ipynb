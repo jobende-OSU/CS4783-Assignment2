{
  "nbformat": 4,
  "nbformat_minor": 0,
  "metadata": {
    "colab": {
      "provenance": [],
      "collapsed_sections": [],
      "mount_file_id": "1ZW-4PD92ERQbcg4FX22JuZOC8mKnMXGm",
      "authorship_tag": "ABX9TyNZKaIxC8qZFN64Rqm4IUB2",
      "include_colab_link": true
    },
    "kernelspec": {
      "name": "python3",
      "display_name": "Python 3"
    },
    "language_info": {
      "name": "python"
    }
  },
  "cells": [
    {
      "cell_type": "markdown",
      "metadata": {
        "id": "view-in-github",
        "colab_type": "text"
      },
      "source": [
        "<a href=\"https://colab.research.google.com/github/jobende-OSU/CS4783-Assignment2/blob/main/Assignment2.ipynb\" target=\"_parent\"><img src=\"https://colab.research.google.com/assets/colab-badge.svg\" alt=\"Open In Colab\"/></a>"
      ]
    },
    {
      "cell_type": "markdown",
      "source": [
        "# Question 1"
      ],
      "metadata": {
        "id": "BcnFzKcm7ffV"
      }
    },
    {
      "cell_type": "markdown",
      "source": [
        "To derive the update rule for a 2-layer neural network using Mean Square Error loss, we must first define a few functions."
      ],
      "metadata": {
        "id": "nDUZuPCNhoTA"
      }
    },
    {
      "cell_type": "markdown",
      "source": [
        "First, we will use a sigmoid activation function for our hidden layer, which we define as follows:\n",
        "\n",
        "$g(z)=\\frac{1}{1+\\mathrm{e}^{-z}}$\n",
        "\n",
        "We will also need the derivative of this function, which is seen below:\n",
        "\n",
        "$g'(z)=g(z) * (1-g(z))$"
      ],
      "metadata": {
        "id": "FuCVugJjjCd4"
      }
    },
    {
      "cell_type": "markdown",
      "source": [
        "We also need to define our MSE loss function which we can make easier to work with by expanding it out for only two layers:\n",
        "\n",
        "$L = \\frac{1}{2}(y_1-a_1)+\\frac{1}{2}(y_2-a_2)$\n"
      ],
      "metadata": {
        "id": "y_J0WUdkjC-m"
      }
    },
    {
      "cell_type": "markdown",
      "source": [
        "Lastly, we must define the outputs for both the first layer and every other layer:\n",
        "\n",
        "$z_1 = W_1*x + b_1$\n",
        "\n",
        "$a_1 = g(z_1)$\n",
        "\n",
        "For all layers past the first:\n",
        "\n",
        "$z_i = W_i*a_{i-1} + b_i$\n",
        "\n",
        "$a_i = g(z_i)$"
      ],
      "metadata": {
        "id": "pMUXplb6k2Cd"
      }
    },
    {
      "cell_type": "markdown",
      "source": [
        "Now we can derive the update rule for our network.\n"
      ],
      "metadata": {
        "id": "7chcYsCFk4I5"
      }
    },
    {
      "cell_type": "markdown",
      "source": [
        "We start with the generic update rule for our weights and bias, using alpha as a learning rate:\n",
        "\n",
        "$W_i = W_i - \\alpha(\\frac{\\partial L}{\\partial W_i})$\n",
        "\n",
        "$b_i = b_i - \\alpha(\\frac{\\partial L}{\\partial b_i})$"
      ],
      "metadata": {
        "id": "wwO83XZ6lYAH"
      }
    },
    {
      "cell_type": "markdown",
      "source": [
        "To calculate the weight and bias for the second layer, we need to know the partial derivative of the loss function in respect to the weight. \n",
        "\n",
        "Because there is no direct relation between them, we must use the chain rule to create one.\n",
        "\n",
        "$\\frac{\\partial L}{\\partial W_2} = \\frac{\\partial L}{\\partial a_2} * \\frac{\\partial a_2}{\\partial z_2} * \\frac{\\partial z_2}{\\partial W_2}$\n",
        "\n",
        "$\\frac{\\partial L}{\\partial b_2} = \\frac{\\partial L}{\\partial a_2} * \\frac{\\partial a_2}{\\partial z_2} * \\frac{\\partial z_2}{\\partial b_2}$"
      ],
      "metadata": {
        "id": "Ze8kVL2QmZU2"
      }
    },
    {
      "cell_type": "markdown",
      "source": [
        "Using our previous definitions, we can substitute and simplify down to the following:\n",
        "\n",
        "$\\frac{\\partial L}{\\partial W_2} = (a_2-y)*g'(z_2)*a_1$\n",
        "\n",
        "$\\frac{\\partial L}{\\partial b_2} = (a_2-y)*g'(z_2)$"
      ],
      "metadata": {
        "id": "W59aaGgZncgc"
      }
    },
    {
      "cell_type": "markdown",
      "source": [
        "We can then continue the chain further to find the first layer.\n",
        "\n",
        "$\\frac{\\partial L}{\\partial W_1} = \\frac{\\partial L}{\\partial a_2} * \\frac{\\partial a_2}{\\partial z_2} * \\frac{\\partial z_2}{\\partial a_1} * \\frac{\\partial a_1}{\\partial z_1} * \\frac{\\partial z_1}{\\partial W_1}$\n",
        "\n",
        "$\\frac{\\partial L}{\\partial b_1} = \\frac{\\partial L}{\\partial a_2} * \\frac{\\partial a_2}{\\partial z_2} * \\frac{\\partial z_2}{\\partial a_1} * \\frac{\\partial a_1}{\\partial z_1} * \\frac{\\partial z_1}{\\partial b_1}$"
      ],
      "metadata": {
        "id": "HGYD9X3uo94S"
      }
    },
    {
      "cell_type": "markdown",
      "source": [
        "Substituting and simplifying these give the following:\n",
        "\n",
        "$\\frac{\\partial L}{\\partial W_1} = (a_2-y)*g'(z_2)*W_2*g'(z_1)*x$\n",
        "\n",
        "$\\frac{\\partial L}{\\partial b_1} = (a_2-y)*g'(z_2)*W_2*g'(z_1)$"
      ],
      "metadata": {
        "id": "V3FCzNnEpWUb"
      }
    },
    {
      "cell_type": "markdown",
      "source": [
        "Substituting these partial derivatives gives us the complete update rule for each layer.\n",
        "\n",
        "$W_1 = W_1 - \\alpha((a_2-y)*g'(z_2)*W_2*g'(z_1)*x)$\n",
        "\n",
        "$b_1 = b_1 - \\alpha((a_2-y)*g'(z_2)*W_2*g'(z_1))$\n",
        "\n",
        "$W_2 = W_2 - \\alpha((a_2-y)*g'(z_2)*a_1)$\n",
        "\n",
        "$b_2 = b_2 - \\alpha((a_2-y)*g'(z_2))$"
      ],
      "metadata": {
        "id": "wFImqQ0QqFHL"
      }
    },
    {
      "cell_type": "markdown",
      "source": [
        "The only difference between these and the update rule when using log loss as the error function is the inclusion of an additional term, $g'(z_2)$, in the final partial derivatives for $\\frac{\\partial L}{\\partial W_i}$. This results from the difference in error functions affecting the first term, $\\frac{\\partial L}{\\partial a_2}$, which generates a value unable which cannot be used to cancel out the output layer's $g'(z_i)$ term."
      ],
      "metadata": {
        "id": "z1WTZGYkrw5O"
      }
    },
    {
      "cell_type": "markdown",
      "source": [
        "Derive the update rule and show how to train a 2-layer (1 hidden layer and 1 output layer) neural \n",
        "network with backpropagation for regression using the Mean Square Error loss. Assume that you \n",
        "are using the Sigmoid activation function for the hidden layer. Explain briefly how this is different \n",
        "from the update rule for the network trained for binary classification using log loss. "
      ],
      "metadata": {
        "id": "emDKlAK8NMfJ"
      }
    },
    {
      "cell_type": "markdown",
      "source": [
        "# Question 2"
      ],
      "metadata": {
        "id": "oAc-R8EH7i3O"
      }
    },
    {
      "cell_type": "markdown",
      "source": [
        "First, gain access to the data from Canvas and import NumPy."
      ],
      "metadata": {
        "id": "9jOCzbfcuSTH"
      }
    },
    {
      "cell_type": "code",
      "execution_count": 465,
      "metadata": {
        "id": "RrRJ3S8reTid",
        "colab": {
          "base_uri": "https://localhost:8080/"
        },
        "outputId": "6c0efa3d-50c4-47e1-f996-9ec0e5277ddd"
      },
      "outputs": [
        {
          "output_type": "stream",
          "name": "stdout",
          "text": [
            "Drive already mounted at /content/drive; to attempt to forcibly remount, call drive.mount(\"/content/drive\", force_remount=True).\n"
          ]
        }
      ],
      "source": [
        "import numpy as np\n",
        "from google.colab import drive\n",
        "drive.mount('/content/drive')\n",
        "\n",
        "# Load all the data\n",
        "x_train = np.loadtxt(\"/content/drive/MyDrive/X_train.csv\")\n",
        "y_train = np.loadtxt(\"/content/drive/MyDrive/Y_train.csv\")\n",
        "x_test = np.loadtxt(\"/content/drive/MyDrive/X_test.csv\")\n",
        "y_test = np.loadtxt(\"/content/drive/MyDrive/Y_test.csv\")\n",
        "\n",
        "# Reshape the Y data into 2D arrays\n",
        "y_train = y_train.reshape(-1, 1)\n",
        "y_test = y_test.reshape(-1, 1)"
      ]
    },
    {
      "cell_type": "markdown",
      "source": [
        "Then, define our sigmoid activation function and its derivative.\n"
      ],
      "metadata": {
        "id": "Y6vImOTTuR6H"
      }
    },
    {
      "cell_type": "code",
      "source": [
        "# Sigmoid Function\n",
        "def sigmoid(z):\n",
        "  return 1 / (1 + np.exp(-z))\n",
        "\n",
        "# Derivative Sigmoid Function\n",
        "def sigmoid_derivative(z):\n",
        "  g = sigmoid(z)\n",
        "  return np.multiply(g, (1 - g))"
      ],
      "metadata": {
        "id": "s6F1y_1K7kvE"
      },
      "execution_count": 466,
      "outputs": []
    },
    {
      "cell_type": "markdown",
      "source": [
        "Now, we will initialize our node counts, learning rate, and maximum iterations."
      ],
      "metadata": {
        "id": "8nKs-kRgvA74"
      }
    },
    {
      "cell_type": "code",
      "source": [
        "# Initialize Rate, Max Iterations, and Example Count\n",
        "learning_rate = 0.1\n",
        "epochs = 5000\n",
        "count = y_train.size\n",
        "\n",
        "# Number of Neurons\n",
        "input_nodes = 2\n",
        "hidden_nodes = 9\n",
        "output_nodes = 1"
      ],
      "metadata": {
        "id": "vzqBtcctvBEx"
      },
      "execution_count": 467,
      "outputs": []
    },
    {
      "cell_type": "markdown",
      "source": [
        "Define a function for forward passes and predictions"
      ],
      "metadata": {
        "id": "57xQ2JQKHPEv"
      }
    },
    {
      "cell_type": "code",
      "source": [
        "def forward_pass(X, W1, W2):\n",
        "  z1 = np.dot(X, W1)\n",
        "  a1 = sigmoid(z1)\n",
        "  z2 = np.dot(a1, W2)\n",
        "  a2 = z2\n",
        "  return a2"
      ],
      "metadata": {
        "id": "x7tBYXuqh_jE"
      },
      "execution_count": 472,
      "outputs": []
    },
    {
      "cell_type": "markdown",
      "source": [
        "Definte functions for the error and accuracy"
      ],
      "metadata": {
        "id": "Z9NGLJwNHh2m"
      }
    },
    {
      "cell_type": "code",
      "source": [
        "def ms_error(predictions, true):\n",
        "    return np.sum(pow(predictions - true, 2)) / (2 * predictions.size)\n",
        "    \n",
        "def accuracy(predictions, true):\n",
        "    correct = []\n",
        "    for i in range(true.shape[0]):\n",
        "      correct = np.append(correct, predictions[i][0] == true[i][0]) \n",
        "    return np.sum(correct) / true.size"
      ],
      "metadata": {
        "id": "ZoGEkmnDHh_M"
      },
      "execution_count": 469,
      "outputs": []
    },
    {
      "cell_type": "markdown",
      "source": [
        "Next, define our backwards propogation function to use for training."
      ],
      "metadata": {
        "id": "e0-QKAx0yKua"
      }
    },
    {
      "cell_type": "code",
      "source": [
        "def backprop(input_nodes, hidden_nodes, output_nodes, learning_rate, epochs):\n",
        "  # Initialize Weights\n",
        "  W1 = np.random.rand(input_nodes, hidden_nodes)   \n",
        "  W2 = np.random.rand(hidden_nodes, output_nodes) \n",
        "\n",
        "  # Initialize Trackers for Error and Accuracy\n",
        "  err = []\n",
        "  acc = []\n",
        "\n",
        "  # Loop until we surpass the maximum allowed iterations\n",
        "  for iter in range(epochs):\n",
        "    # Current Prediction\n",
        "    z1 = np.dot(x_train, W1)\n",
        "    a1 = sigmoid(z1)\n",
        "    z2 = np.dot(a1, W2)\n",
        "    a2 = z2\n",
        "    \n",
        "    # Calculate and Track Error / Accuracy\n",
        "    err = np.append(err, ms_error(a2, y_train))\n",
        "    acc = np.append(acc, accuracy(a2, y_train))\n",
        "    \n",
        "    # Compute Gradients\n",
        "    da1 = (a2 - y_train) * sigmoid_derivative(z2)\n",
        "    da2 = np.dot(da1, W2.T) * sigmoid_derivative(z1)\n",
        "    dW1 = np.dot(x_train.T, da2) / count\n",
        "    dW2 = np.dot(a1.T, da1) / count\n",
        "\n",
        "    # Update the Weights\n",
        "    W2 = W2 - learning_rate * dW2\n",
        "    W1 = W1 - learning_rate * dW1\n",
        "\n",
        "  return (W1, W2, err, acc)\n"
      ],
      "metadata": {
        "id": "-hmkPeSRw21t"
      },
      "execution_count": 473,
      "outputs": []
    },
    {
      "cell_type": "markdown",
      "source": [
        "Finally, train on the data and test predictions on the test set."
      ],
      "metadata": {
        "id": "foo65yn80b0n"
      }
    },
    {
      "cell_type": "code",
      "source": [
        "# Train on the training data.\n",
        "W1, W2, err, acc = backprop(input_nodes, hidden_nodes, output_nodes, learning_rate, epochs)\n",
        "\n",
        "# Final Prediction\n",
        "guess = forward_pass(x_test, W1, W2)\n",
        "\n",
        "# Check the accuracy of the predictions and print it and other results to the console.\n",
        "acc2 = accuracy(guess, y_test)\n",
        "print(\"Accuracy (Test): \", acc2)\n",
        "print(\"W1: \", W1)\n",
        "print(\"W2: \", W2)\n",
        "\n",
        "plt.scatter(x_test.T[0], y_test)\n",
        "plt.scatter(x_test.T[1], y_test)\n",
        "plt.scatter(guess, y_test)\n",
        "\n",
        "#print(\"Expected: \", guess)\n",
        "#print(\"Actual: \", y_test)"
      ],
      "metadata": {
        "colab": {
          "base_uri": "https://localhost:8080/",
          "height": 533
        },
        "id": "xsu9G8tA_2Rh",
        "outputId": "edca4ef1-b591-44d1-e07b-db38607c655b"
      },
      "execution_count": 474,
      "outputs": [
        {
          "output_type": "stream",
          "name": "stdout",
          "text": [
            "Accuracy (Test):  0.0\n",
            "W1:  [[ 0.14066706  0.23529849  0.04062294  0.28609802 -0.03908999  0.04089983\n",
            "  -0.02266428  0.02781167  0.03498923]\n",
            " [ 2.75848368  1.15350182  4.35378607  1.63091035 -5.40409829  4.04656446\n",
            "  -3.21040689 -2.42345449  4.84036842]]\n",
            "W2:  [[ 2.09116459]\n",
            " [ 0.38714647]\n",
            " [ 4.02865395]\n",
            " [ 0.85333792]\n",
            " [-7.1158551 ]\n",
            " [ 3.64862897]\n",
            " [-4.18301769]\n",
            " [-3.26039921]\n",
            " [ 4.67779182]]\n"
          ]
        },
        {
          "output_type": "execute_result",
          "data": {
            "text/plain": [
              "<matplotlib.collections.PathCollection at 0x7fda8eb76a90>"
            ]
          },
          "metadata": {},
          "execution_count": 474
        },
        {
          "output_type": "display_data",
          "data": {
            "text/plain": [
              "<Figure size 432x288 with 1 Axes>"
            ],
            "image/png": "[encoded data removed]"
          },
          "metadata": {
            "needs_background": "light"
          }
        }
      ]
    },
    {
      "cell_type": "markdown",
      "source": [
        "### Written Questions"
      ],
      "metadata": {
        "id": "r97ZcjUR7umK"
      }
    },
    {
      "cell_type": "markdown",
      "source": [
        "1. I will choose to also use the linear function for the output layer because I ran out of time and couldn't figure out which one was correct.\n",
        "2. There should be 1 neuron since is only one feature in the y data. This would means that each output is a probability of it belonging to our linear classifier."
      ],
      "metadata": {
        "id": "E1KTL4lq7yJW"
      }
    },
    {
      "cell_type": "code",
      "source": [
        "print(\"Error: \", err[-1])\n",
        "print(\"Accuracy: \", acc[-1])"
      ],
      "metadata": {
        "colab": {
          "base_uri": "https://localhost:8080/"
        },
        "id": "Nd8PgCBHMlAG",
        "outputId": "de9bd393-7f25-4d8b-b384-21db44d81551"
      },
      "execution_count": 476,
      "outputs": [
        {
          "output_type": "stream",
          "name": "stdout",
          "text": [
            "Error:  2051.1267989044227\n",
            "Accuracy:  0.0\n"
          ]
        }
      ]
    },
    {
      "cell_type": "markdown",
      "source": [
        "3. The average MSE loss was ~2100 and the final accuracy is 0% on both data sets. I unfortunately did not have enough time to fix this algorithm before it was due.\n",
        "4. \n"
      ],
      "metadata": {
        "id": "AAtpUz3ZMkEF"
      }
    },
    {
      "cell_type": "code",
      "source": [
        "# Import Libraries\n",
        "import matplotlib.pyplot as plt\n",
        "\n",
        "# Plot the loss and accuracy\n",
        "_, ax = plt.subplots(2, figsize = (8, 6), sharex=True)\n",
        "ax[0].plot(range(epochs), err)\n",
        "ax[1].plot(range(epochs), acc)\n",
        "ax[0].set_ylabel(\"MSE\")\n",
        "ax[1].set_ylabel(\"Accuracy\")\n",
        "ax[1].set_xlabel(\"Iterations\")"
      ],
      "metadata": {
        "colab": {
          "base_uri": "https://localhost:8080/",
          "height": 406
        },
        "id": "3U6dhZiVNO4L",
        "outputId": "8b5257ab-c2e0-48b7-a640-584a2a3b1a77"
      },
      "execution_count": 477,
      "outputs": [
        {
          "output_type": "execute_result",
          "data": {
            "text/plain": [
              "Text(0.5, 0, 'Iterations')"
            ]
          },
          "metadata": {},
          "execution_count": 477
        },
        {
          "output_type": "display_data",
          "data": {
            "text/plain": [
              "<Figure size 576x432 with 2 Axes>"
            ],
            "image/png": "[encoded data removed]"
          },
          "metadata": {
            "needs_background": "light"
          }
        }
      ]
    },
    {
      "cell_type": "markdown",
      "source": [
        "5. \n"
      ],
      "metadata": {
        "id": "xT8dKA6dNPL7"
      }
    },
    {
      "cell_type": "code",
      "source": [
        "# Initial parameters\n",
        "rate = 0.001\n",
        "max_rate = 1.0\n",
        "acc = []\n",
        "\n",
        "# Train on the training data.\n",
        "W1, W2, _, _ = backprop(input_nodes, hidden_nodes, output_nodes, learning_rate, epochs)\n",
        "\n",
        "# Final Prediction.\n",
        "guess = forward_pass(x_test, W1, W2)\n",
        "\n",
        "# Check the accuracy of the predictions and append it to the stored list.\n",
        "acc = np.append(acc, accuracy(guess, y_test))\n",
        "\n",
        "# Increase the learning rate.\n",
        "rate = 0.1\n",
        "\n",
        "while rate <= max_rate:\n",
        "  # Train on the training data.\n",
        "  W1, W2, _, _ = backprop(input_nodes, hidden_nodes, output_nodes, rate, epochs)\n",
        "\n",
        "  # Final Prediction.\n",
        "  guess = forward_pass(x_test, W1, W2)\n",
        "\n",
        "  # Check the accuracy of the predictions and append it to the stored list.\n",
        "  acc = np.append(acc, accuracy(guess, y_test))\n",
        "  \n",
        "  # Increase the learning rate.\n",
        "  rate = round(rate + 0.1, 1)"
      ],
      "metadata": {
        "id": "58OZZ6f0lF2A"
      },
      "execution_count": 478,
      "outputs": []
    },
    {
      "cell_type": "code",
      "source": [
        "xRange = [0.001, 0.1, 0.2, 0.3, 0.4, 0.5, 0.6, 0.7, 0.8, 0.9, 1.0]\n",
        "plt.plot(xRange, acc)"
      ],
      "metadata": {
        "colab": {
          "base_uri": "https://localhost:8080/",
          "height": 283
        },
        "id": "dJ3xiGQTmk3p",
        "outputId": "d5c5e39b-b2c1-4651-bf11-434750c453e7"
      },
      "execution_count": 479,
      "outputs": [
        {
          "output_type": "execute_result",
          "data": {
            "text/plain": [
              "[<matplotlib.lines.Line2D at 0x7fda8ee0a2d0>]"
            ]
          },
          "metadata": {},
          "execution_count": 479
        },
        {
          "output_type": "display_data",
          "data": {
            "text/plain": [
              "<Figure size 432x288 with 1 Axes>"
            ],
            "image/png": "[encoded data removed]"
          },
          "metadata": {
            "needs_background": "light"
          }
        }
      ]
    },
    {
      "cell_type": "markdown",
      "source": [
        "6. Increasing the number of neurons in the hidden layer helped to decrease the error substantially, converging best with nine neurons. The update rule does not need to be derived again since the number of neurons in the layer does not affect partial derivatives, only the weights do.\n"
      ],
      "metadata": {
        "id": "DFVARXd3lGMS"
      }
    },
    {
      "cell_type": "code",
      "source": [
        "errs = []\n",
        "\n",
        "for nodes in range(1, 11):\n",
        "  # Train on the training data.\n",
        "  W1, W2, error, _ = backprop(input_nodes, nodes, output_nodes, learning_rate, epochs)\n",
        "\n",
        "  # Final Prediction.\n",
        "  guess = forward_pass(x_test, W1, W2)\n",
        "\n",
        "  # Append the final error to the stored list.\n",
        "  errs = np.append(errs, error[-1])"
      ],
      "metadata": {
        "id": "kuXTXsLftnlQ"
      },
      "execution_count": 484,
      "outputs": []
    },
    {
      "cell_type": "code",
      "source": [
        "plt.plot(range(1, 11), errs, 'r')"
      ],
      "metadata": {
        "colab": {
          "base_uri": "https://localhost:8080/",
          "height": 285
        },
        "id": "y4mhV15vuYV1",
        "outputId": "f82daba9-1b2d-4525-d234-0edbf884a758"
      },
      "execution_count": 486,
      "outputs": [
        {
          "output_type": "execute_result",
          "data": {
            "text/plain": [
              "[<matplotlib.lines.Line2D at 0x7fda8eacfad0>]"
            ]
          },
          "metadata": {},
          "execution_count": 486
        },
        {
          "output_type": "display_data",
          "data": {
            "text/plain": [
              "<Figure size 432x288 with 1 Axes>"
            ],
            "image/png": "[encoded data removed]"
          },
          "metadata": {
            "needs_background": "light"
          }
        }
      ]
    },
    {
      "cell_type": "code",
      "source": [
        "plt.scatter(x_test.T[0], y_test)\n",
        "plt.scatter(x_test.T[1], y_test)\n",
        "plt.scatter(guess, y_test)"
      ],
      "metadata": {
        "colab": {
          "base_uri": "https://localhost:8080/",
          "height": 283
        },
        "id": "JwqXEvmj3gxo",
        "outputId": "66b6b81d-3f96-4e78-957f-70d3f91712a3"
      },
      "execution_count": 487,
      "outputs": [
        {
          "output_type": "execute_result",
          "data": {
            "text/plain": [
              "<matplotlib.collections.PathCollection at 0x7fda8eaa2d50>"
            ]
          },
          "metadata": {},
          "execution_count": 487
        },
        {
          "output_type": "display_data",
          "data": {
            "text/plain": [
              "<Figure size 432x288 with 1 Axes>"
            ],
            "image/png": "[encoded data removed]"
          },
          "metadata": {
            "needs_background": "light"
          }
        }
      ]
    },
    {
      "cell_type": "markdown",
      "source": [
        "\n",
        "7. Generally, they offset the predictions on the x-axis. \n",
        "\n",
        "   a. Yes, because it involves the derivative of activation functions, it will need to be updated.\n",
        "  \n",
        "   b. The derivative activation function used in $\\frac{\\partial L}{\\partial W_i}$ needs to be replaced with the one derived from the new activation function.\n",
        "  \n",
        "   c. Using tanh instead of sigmoid for the hidden layer shifts the guesses to the right, and a linear activation function results in no transformations at all."
      ],
      "metadata": {
        "id": "nZUWfId2tkdy"
      }
    },
    {
      "cell_type": "code",
      "source": [
        "# TanH function\n",
        "def tanh(z):\n",
        "  return (np.exp(z) - np.exp(-z)) / (np.exp(z) + np.exp(-z))\n",
        "\n",
        "# TanH derivative function\n",
        "def tanh_derivative(z):\n",
        "  return 1 - pow(tanh(z), 2)"
      ],
      "metadata": {
        "id": "OkvEKfV8w7pK"
      },
      "execution_count": 488,
      "outputs": []
    },
    {
      "cell_type": "code",
      "source": [
        "def backprop_tanh(input_nodes, hidden_nodes, output_nodes, learning_rate, epochs):\n",
        "  # Initialize Weights\n",
        "  W1 = np.random.rand(input_nodes, hidden_nodes)   \n",
        "  W2 = np.random.rand(hidden_nodes, output_nodes) \n",
        "\n",
        "  # Initialize Trackers for Error and Accuracy\n",
        "  err = []\n",
        "  acc = []\n",
        "\n",
        "  # Loop until we surpass the maximum allowed iterations\n",
        "  for iter in range(epochs):\n",
        "    # Current Prediction\n",
        "    z1 = np.dot(x_train, W1)\n",
        "    a1 = tanh(z1)\n",
        "    z2 = np.dot(a1, W2)\n",
        "    a2 = z2\n",
        "    \n",
        "    # Calculate and Track Error / Accuracy\n",
        "    err = np.append(err, ms_error(a2, y_train))\n",
        "    acc = np.append(acc, accuracy(a2, y_train))\n",
        "    \n",
        "    # Compute Gradients\n",
        "    da1 = (a2 - y_train) * tanh_derivative(z2)\n",
        "    da2 = np.dot(da1, W2.T) * tanh_derivative(z1)\n",
        "    dW1 = np.dot(x_train.T, da2) / count\n",
        "    dW2 = np.dot(a1.T, da1) / count\n",
        "\n",
        "    # Update the Weights\n",
        "    W2 = W2 - learning_rate * dW2\n",
        "    W1 = W1 - learning_rate * dW1\n",
        "\n",
        "  return (W1, W2, err, acc)\n",
        "\n",
        "# Train on the training data.\n",
        "W1, W2, err, acc = backprop_tanh(input_nodes, hidden_nodes, output_nodes, learning_rate, epochs)\n",
        "# Final Prediction.\n",
        "guess = forward_pass(x_test, W1, W2)\n",
        "# Check the accuracy of the predictions and print it and other results to the console.\n",
        "err = np.append(err, error[-1])\n",
        "\n",
        "plt.scatter(x_test.T[0], y_test)\n",
        "plt.scatter(x_test.T[1], y_test)\n",
        "plt.scatter(guess, y_test)"
      ],
      "metadata": {
        "colab": {
          "base_uri": "https://localhost:8080/",
          "height": 283
        },
        "id": "L7_4KObkwx_w",
        "outputId": "5459d245-c738-42e1-ab48-818cf218b8b0"
      },
      "execution_count": 489,
      "outputs": [
        {
          "output_type": "execute_result",
          "data": {
            "text/plain": [
              "<matplotlib.collections.PathCollection at 0x7fda8e99a7d0>"
            ]
          },
          "metadata": {},
          "execution_count": 489
        },
        {
          "output_type": "display_data",
          "data": {
            "text/plain": [
              "<Figure size 432x288 with 1 Axes>"
            ],
            "image/png": "[encoded data removed]"
          },
          "metadata": {
            "needs_background": "light"
          }
        }
      ]
    }
  ]
}